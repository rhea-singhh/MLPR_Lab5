{
 "cells": [
  {
   "cell_type": "code",
   "execution_count": 1,
   "id": "c11e5d77",
   "metadata": {},
   "outputs": [
    {
     "name": "stdout",
     "output_type": "stream",
     "text": [
      "Missing files: ['plaksha_Faculty.jpg']\n",
      "Image failed to load.\n",
      "Error loading dataset: [Errno 2] No such file or directory: 'sample_data.csv'\n"
     ]
    },
    {
     "name": "stderr",
     "output_type": "stream",
     "text": [
      "[ WARN:0@0.741] global loadsave.cpp:241 findDecoder imread_('plaksha_Faculty.jpg'): can't open/read file: check file path/integrity\n"
     ]
    }
   ],
   "source": [
    "import os\n",
    "import cv2\n",
    "import numpy as np\n",
    "import pandas as pd\n",
    "import matplotlib.pyplot as plt\n",
    "\n",
    "# Check if dataset and images exist\n",
    "required_files = [\"plaksha_Faculty.jpg\", \"distance_classification.py\"]\n",
    "\n",
    "missing_files = [file for file in required_files if not os.path.exists(file)]\n",
    "\n",
    "if missing_files:\n",
    "    print(f\"Missing files: {missing_files}\")\n",
    "else:\n",
    "    print(\"All required files are present.\")\n",
    "\n",
    "# Test if an image loads correctly\n",
    "try:\n",
    "    img = cv2.imread(\"plaksha_Faculty.jpg\")\n",
    "    if img is None:\n",
    "        print(\"Image failed to load.\")\n",
    "    else:\n",
    "        print(\"Image loaded successfully.\")\n",
    "        plt.imshow(cv2.cvtColor(img, cv2.COLOR_BGR2RGB))\n",
    "        plt.axis(\"off\")\n",
    "        plt.title(\"Loaded Image\")\n",
    "        plt.show()\n",
    "except Exception as e:\n",
    "    print(f\"Error loading image: {e}\")\n",
    "\n",
    "# Test if Pandas can read a dataset (modify dataset path if necessary)\n",
    "try:\n",
    "    df = pd.read_csv(\"sample_data.csv\")  # Change filename if needed\n",
    "    print(f\"Dataset loaded successfully with {df.shape[0]} rows and {df.shape[1]} columns.\")\n",
    "except Exception as e:\n",
    "    print(f\"Error loading dataset: {e}\")\n",
    "\n"
   ]
  },
  {
   "cell_type": "code",
   "execution_count": null,
   "id": "7e650f2d",
   "metadata": {},
   "outputs": [],
   "source": []
  }
 ],
 "metadata": {
  "kernelspec": {
   "display_name": "Python 3 (ipykernel)",
   "language": "python",
   "name": "python3"
  },
  "language_info": {
   "codemirror_mode": {
    "name": "ipython",
    "version": 3
   },
   "file_extension": ".py",
   "mimetype": "text/x-python",
   "name": "python",
   "nbconvert_exporter": "python",
   "pygments_lexer": "ipython3",
   "version": "3.11.4"
  }
 },
 "nbformat": 4,
 "nbformat_minor": 5
}
